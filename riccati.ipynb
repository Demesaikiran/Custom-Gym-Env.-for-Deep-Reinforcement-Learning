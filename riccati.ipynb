{
 "cells": [
  {
   "cell_type": "code",
   "execution_count": 1,
   "metadata": {},
   "outputs": [
    {
     "name": "stdout",
     "output_type": "stream",
     "text": [
      "Defaulting to user installation because normal site-packages is not writeable\n",
      "Requirement already satisfied: PyOpenGL in /home/maximilian/.local/lib/python3.7/site-packages (3.1.5)\n",
      "Requirement already satisfied: PyOpenGL_accelerate in /home/maximilian/.local/lib/python3.7/site-packages (3.1.5)\n",
      "Requirement already satisfied: pygame in /home/maximilian/.local/lib/python3.7/site-packages (2.0.1)\n",
      "\u001b[33mWARNING: You are using pip version 21.1.1; however, version 21.1.2 is available.\n",
      "You should consider upgrading via the '/usr/bin/python3.7 -m pip install --upgrade pip' command.\u001b[0m\n",
      "Note: you may need to restart the kernel to use updated packages.\n"
     ]
    }
   ],
   "source": [
    "%pip install PyOpenGL PyOpenGL_accelerate pygame"
   ]
  },
  {
   "cell_type": "code",
   "execution_count": 1,
   "metadata": {
    "scrolled": true
   },
   "outputs": [
    {
     "name": "stdout",
     "output_type": "stream",
     "text": [
      "pygame 2.0.1 (SDL 2.0.14, Python 3.7.5)\n",
      "Hello from the pygame community. https://www.pygame.org/contribute.html\n"
     ]
    }
   ],
   "source": [
    "import sys\n",
    "\n",
    "import numpy as np\n",
    "import math\n",
    "\n",
    "# python3 -m pip install\n",
    "\n",
    "from OpenGL.GL import *\n",
    "from OpenGL.GLU import *\n",
    "from OpenGL.GLUT import *\n",
    "\n",
    "# python3 -m pip install pygame\n",
    "import pygame\n",
    "from pygame.locals import *\n",
    "\n",
    "from draw_object import ConfigureEnv"
   ]
  },
  {
   "cell_type": "markdown",
   "metadata": {},
   "source": [
    "# 2ab)"
   ]
  },
  {
   "cell_type": "code",
   "execution_count": 2,
   "metadata": {},
   "outputs": [],
   "source": [
    "from scipy import linalg\n",
    "import numpy as np\n",
    "\n",
    "sigma = 1\n",
    "c = sigma\n",
    "Q = np.array([[c, 0 ,0, 0],[0,0,0,0],[0,0,1,0],[0,0,0,0]])\n",
    "P = Q\n",
    "\n",
    "Mp = 1\n",
    "Mc = 1\n",
    "l = 1\n",
    "c_1 = (Mp + Mc)**-1\n",
    "c_2 = l * Mp * c_1\n",
    "B = np.array([[0], [c_2 + (c_2*c_1)/(4/3*l-c_2)], [0], [(-c_1)/(4/3*l-c_2)]])\n",
    "\n",
    "g = 9.81\n",
    "A = np.array([[0, 1, 0, 0],[0, 0, (-c_2*g)/(4/3*l-c_2), 0],[0, 0, 0, 1],[0, 0, (g)/(4/3*l-c_2), 0]])\n",
    "\n",
    "R = 1\n",
    "\n",
    "def calc_K_anal():\n",
    "    P = linalg.solve_continuous_are(A,B,Q,R)\n",
    "    K_anal = -B.T @ P\n",
    "    return K_anal[0]\n",
    "\n",
    "def calc_K_iter():\n",
    "    e = 1/1000\n",
    "    P = Q\n",
    "    for i in range(0, 10000):\n",
    "        P = P + e * (A.T @ P + P.T @ A - P @ B @ B.T @ P + Q)\n",
    "    K_iter = -B.T @ P\n",
    "    return K_iter[0]"
   ]
  },
  {
   "cell_type": "code",
   "execution_count": 3,
   "metadata": {},
   "outputs": [],
   "source": [
    "class CartPoleState(object):\n",
    "    def __init__(self):   \n",
    "        self.x=0.\n",
    "        self.x1=0.\n",
    "        self.th=.2;\n",
    "        self.th1=0. \n",
    "\n",
    "        # init constants\n",
    "        self.tau = 1/60.;\n",
    "        Mp = 1\n",
    "        Mc = 1\n",
    "        self.l = 1\n",
    "        self.c1 = 1/(Mp+Mc)\n",
    "        self.c2 = self.l*Mp/(Mp+Mc)\n",
    "        self.g = 9.8\n",
    "        \n",
    "        # change the dynamicsNoise here\n",
    "        self.dynamicsNoise = 0.01\n",
    "    \n",
    "    def step(self, u):\n",
    "        the2 = self.g*math.sin(self.th) + math.cos(self.th)*(-self.c1*u-self.c2*self.th1*self.th1*math.sin(self.th));\n",
    "        the2 /= self.l*4/3 - self.c2*math.cos(self.th)*math.cos(self.th);\n",
    "        x2 = self.c1*u + self.c2*(self.th1*self.th1*math.sin(self.th) - the2*math.cos(self.th));\n",
    "        \n",
    "        self.x   += self.tau*self.x1;\n",
    "        self.x1  += self.tau*x2;\n",
    "        self.th  += self.tau*self.th1;\n",
    "        self.th1 += self.tau*the2;\n",
    "        \n",
    "        if(self.dynamicsNoise):\n",
    "            self.x1 += self.dynamicsNoise*np.random.normal(0,1);\n",
    "            self.th1 += self.dynamicsNoise*np.random.normal(0,1);\n"
   ]
  },
  {
   "cell_type": "code",
   "execution_count": 4,
   "metadata": {},
   "outputs": [],
   "source": [
    "def draw_objects(env, x, theta):\n",
    "    # draw guide lines\n",
    "    env.draw_line()  \n",
    "\n",
    "    # cart\n",
    "    glColor3f(1,1,1); \n",
    "    glPushMatrix()\n",
    "    glTranslatef(x, 0., 0.)\n",
    "    env.draw_cube(1., 0.2, 0.2)  \n",
    "    env.draw_line2()\n",
    "    \n",
    "    # pole\n",
    "    glColor3f(1,0,0); \n",
    "    glPushMatrix()\n",
    "    glRotatef(theta*180./math.pi, 0., 1., 0.)\n",
    "    glTranslatef(0, 0., 0.5)\n",
    "    env.draw_cube(0.1, 0.1, 1.)  \n",
    "    \n",
    "    glPopMatrix()\n",
    "    glPopMatrix()\n",
    "    "
   ]
  },
  {
   "cell_type": "code",
   "execution_count": 5,
   "metadata": {},
   "outputs": [],
   "source": [
    "def testMove(s):\n",
    "    # implement the controller gains here\n",
    "    K = calc_K_anal()\n",
    "    u = K[0]*s.x + K[1]*s.x1 + K[2]*s.th + K[3]*s.th1;\n",
    "    s.step(u)\n",
    "    \n",
    "    # return translation x and rotation theta\n",
    "    return s.x, s.th"
   ]
  },
  {
   "cell_type": "code",
   "execution_count": null,
   "metadata": {},
   "outputs": [],
   "source": [
    "def main():\n",
    "    pygame.init()\n",
    " \n",
    "    display = (1000,750)\n",
    "    pygame.display.set_mode(display, DOUBLEBUF|OPENGL, RESIZABLE)\n",
    "\n",
    "    glRotatef(-90.,1.,0, 0)\n",
    "    glScaled(0.8, 0.8, 0.8);\n",
    "\n",
    "    env = ConfigureEnv()\n",
    "    s = CartPoleState()\n",
    "\n",
    "    while True:\n",
    "        for event in pygame.event.get():\n",
    "            if event.type == pygame.QUIT:\n",
    "                pygame.quit()\n",
    "                quit()\n",
    "            env.mouseMove(event);\n",
    "\n",
    "        glClear(GL_COLOR_BUFFER_BIT|GL_DEPTH_BUFFER_BIT)\n",
    "        \n",
    "        # calculate and update opengl\n",
    "        x, th = testMove(s)\n",
    "        draw_objects(env, x, th)\n",
    "        \n",
    "        pygame.display.flip()\n",
    "        pygame.time.wait(10)\n",
    "\n",
    "main()"
   ]
  },
  {
   "cell_type": "markdown",
   "metadata": {},
   "source": [
    "# 2ab)"
   ]
  },
  {
   "cell_type": "code",
   "execution_count": null,
   "metadata": {},
   "outputs": [],
   "source": []
  },
  {
   "cell_type": "code",
   "execution_count": null,
   "metadata": {},
   "outputs": [],
   "source": []
  }
 ],
 "metadata": {
  "kernelspec": {
   "display_name": "Python 3",
   "language": "python",
   "name": "python3"
  },
  "language_info": {
   "codemirror_mode": {
    "name": "ipython",
    "version": 3
   },
   "file_extension": ".py",
   "mimetype": "text/x-python",
   "name": "python",
   "nbconvert_exporter": "python",
   "pygments_lexer": "ipython3",
   "version": "3.7.5"
  }
 },
 "nbformat": 4,
 "nbformat_minor": 2
}
